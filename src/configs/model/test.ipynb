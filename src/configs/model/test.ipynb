{
 "cells": [
  {
   "cell_type": "code",
   "execution_count": null,
   "metadata": {},
   "outputs": [
    {
     "ename": "AttributeError",
     "evalue": "'list' object has no attribute 'shape'",
     "output_type": "error",
     "traceback": [
      "\u001b[0;31m---------------------------------------------------------------------------\u001b[0m",
      "\u001b[0;31mAttributeError\u001b[0m                            Traceback (most recent call last)",
      "Cell \u001b[0;32mIn[4], line 55\u001b[0m\n\u001b[1;32m     52\u001b[0m text_embedding \u001b[38;5;241m=\u001b[39m torch\u001b[38;5;241m.\u001b[39mrandn(\u001b[38;5;241m7050\u001b[39m, \u001b[38;5;241m64\u001b[39m)\n\u001b[1;32m     54\u001b[0m aligner \u001b[38;5;241m=\u001b[39m MultimodalWaveletAligner()\n\u001b[0;32m---> 55\u001b[0m image_embedding_wave, text_embedding_wave, fusion_wave \u001b[38;5;241m=\u001b[39m \u001b[43maligner\u001b[49m\u001b[38;5;241;43m.\u001b[39;49m\u001b[43mmultimodal_multiscale_wavelet_align\u001b[49m\u001b[43m(\u001b[49m\u001b[43mimage_embedding\u001b[49m\u001b[43m,\u001b[49m\u001b[43m \u001b[49m\u001b[43mtext_embedding\u001b[49m\u001b[43m)\u001b[49m\n\u001b[1;32m     56\u001b[0m \u001b[38;5;28mprint\u001b[39m(image_embedding_wave\u001b[38;5;241m.\u001b[39mshape)\n\u001b[1;32m     57\u001b[0m \u001b[38;5;28mprint\u001b[39m(text_embedding_wave\u001b[38;5;241m.\u001b[39mshape)\n",
      "Cell \u001b[0;32mIn[4], line 29\u001b[0m, in \u001b[0;36mMultimodalWaveletAligner.multimodal_multiscale_wavelet_align\u001b[0;34m(self, image_embedding, text_embedding)\u001b[0m\n\u001b[1;32m     26\u001b[0m image_coeffs \u001b[38;5;241m=\u001b[39m pywt\u001b[38;5;241m.\u001b[39mwavedec(image_np, wavelet, level\u001b[38;5;241m=\u001b[39mlevel, axis\u001b[38;5;241m=\u001b[39m\u001b[38;5;241m1\u001b[39m)\n\u001b[1;32m     27\u001b[0m text_coeffs \u001b[38;5;241m=\u001b[39m pywt\u001b[38;5;241m.\u001b[39mwavedec(text_np, wavelet, level\u001b[38;5;241m=\u001b[39mlevel, axis\u001b[38;5;241m=\u001b[39m\u001b[38;5;241m1\u001b[39m)\n\u001b[0;32m---> 29\u001b[0m \u001b[38;5;28mprint\u001b[39m(\u001b[38;5;124m\"\u001b[39m\u001b[38;5;124mimage_coeffs.shape:\u001b[39m\u001b[38;5;124m\"\u001b[39m, \u001b[43mimage_coeffs\u001b[49m\u001b[38;5;241;43m.\u001b[39;49m\u001b[43mshape\u001b[49m)\n\u001b[1;32m     30\u001b[0m \u001b[38;5;66;03m# 对每一级系数进行对齐和融合\u001b[39;00m\n\u001b[1;32m     31\u001b[0m fused_coeffs \u001b[38;5;241m=\u001b[39m []\n",
      "\u001b[0;31mAttributeError\u001b[0m: 'list' object has no attribute 'shape'"
     ]
    }
   ],
   "source": [
    "import torch\n",
    "import pywt\n",
    "\n",
    "\n",
    "class MultimodalWaveletAligner:\n",
    "    def multimodal_multiscale_wavelet_align(self, image_embedding, text_embedding):\n",
    "        '''\n",
    "        Desc: 多模态多尺度小波变换对齐\n",
    "        Args:\n",
    "            image_embedding: 图像embedding, image_embedding.shape: torch.Size([7050, 64]) \n",
    "            text_embedding: 文本embedding, text_embedding.shape: torch.Size([7050, 64]), 7050个物品,每个物品编码为64维向量\n",
    "        Function:\n",
    "            对图像和文本嵌入进行多模态多尺度小波变换对齐\n",
    "        Returns:\n",
    "            image_embedding_wave.shape: torch.Size([7050, 64]) text_embedding_wave.shape: torch.Size([7050, 64]) fusion_wave.shape: torch.Size([7050, 64])\n",
    "        '''\n",
    "        # 转换为numpy数组进行小波变换\n",
    "        image_np = image_embedding.cpu().numpy()\n",
    "        text_np = text_embedding.cpu().numpy()\n",
    "\n",
    "        # 定义小波类型\n",
    "        wavelet = 'db4'\n",
    "        level = 3\n",
    "\n",
    "        # 对图像和文本嵌入进行小波变换\n",
    "        image_coeffs = pywt.wavedec(image_np, wavelet, level=level, axis=1)\n",
    "        text_coeffs = pywt.wavedec(text_np, wavelet, level=level, axis=1)\n",
    "\n",
    "        print(\"image_coeffs:\", image_coeffs.shape)\n",
    "        # 对每一级系数进行对齐和融合\n",
    "        fused_coeffs = []\n",
    "        for i in range(len(image_coeffs)):\n",
    "            # 简单的平均融合\n",
    "            fused_coeff = (image_coeffs[i] + text_coeffs[i]) / 2\n",
    "            fused_coeffs.append(fused_coeff)\n",
    "\n",
    "        # 进行小波逆变换\n",
    "        image_embedding_wave_np = pywt.waverec(image_coeffs, wavelet, axis=1)\n",
    "        text_embedding_wave_np = pywt.waverec(text_coeffs, wavelet, axis=1)\n",
    "        fusion_wave_np = pywt.waverec(fused_coeffs, wavelet, axis=1)\n",
    "\n",
    "        # 转换回torch张量\n",
    "        image_embedding_wave = torch.tensor(image_embedding_wave_np, dtype=torch.float32, device=image_embedding.device)\n",
    "        text_embedding_wave = torch.tensor(text_embedding_wave_np, dtype=torch.float32, device=text_embedding.device)\n",
    "        fusion_wave = torch.tensor(fusion_wave_np, dtype=torch.float32, device=image_embedding.device)\n",
    "\n",
    "        return image_embedding_wave, text_embedding_wave, fusion_wave\n",
    "\n",
    "\n",
    "# 示例数据\n",
    "image_embedding = torch.randn(7050, 64)\n",
    "text_embedding = torch.randn(7050, 64)\n",
    "\n",
    "aligner = MultimodalWaveletAligner()\n",
    "image_embedding_wave, text_embedding_wave, fusion_wave = aligner.multimodal_multiscale_wavelet_align(image_embedding, text_embedding)\n",
    "print(image_embedding_wave.shape)\n",
    "print(text_embedding_wave.shape)\n",
    "print(fusion_wave.shape)\n",
    "    "
   ]
  }
 ],
 "metadata": {
  "kernelspec": {
   "display_name": "pytorch2.1",
   "language": "python",
   "name": "python3"
  },
  "language_info": {
   "codemirror_mode": {
    "name": "ipython",
    "version": 3
   },
   "file_extension": ".py",
   "mimetype": "text/x-python",
   "name": "python",
   "nbconvert_exporter": "python",
   "pygments_lexer": "ipython3",
   "version": "3.8.18"
  }
 },
 "nbformat": 4,
 "nbformat_minor": 2
}
